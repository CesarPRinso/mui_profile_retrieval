{
  "nbformat": 4,
  "nbformat_minor": 0,
  "metadata": {
    "colab": {
      "provenance": []
    },
    "kernelspec": {
      "name": "python3",
      "display_name": "Python 3"
    },
    "language_info": {
      "name": "python"
    }
  },
  "cells": [
    {
      "cell_type": "markdown",
      "metadata": {
        "id": "SsUjkWa7bfuJ"
      },
      "source": [
        "*****************************************************************************\n",
        "\n",
        "<center> <h1> Universidad Politécnica de Madrid </h1> </center>\n",
        "\n",
        "<center> <h2> Biomedical informatics </h2> </center>\n",
        "\n",
        "<center> <h3> Profile-based retrieval </h3> </center>\n",
        "\n",
        "<center> <img src=https://upload.wikimedia.org/wikipedia/commons/3/33/Escudo_ETSIINF_UPM.svg width=\"150\"> </center>\n"
      ]
    },
    {
      "cell_type": "markdown",
      "metadata": {
        "id": "OaocayCKbfuK"
      },
      "source": [
        "\n",
        "********************************************************************************\n",
        "__Nombres:__ \n",
        "\n",
        "*   César Pantoja Rosales \n",
        "*   Gabriel Rivera Cárdenas\n",
        "\n",
        "********************************************************************************\n"
      ]
    },
    {
      "cell_type": "code",
      "metadata": {
        "id": "wqRSs4Hima6z",
        "pycharm": {
          "name": "#%%\n"
        }
      },
      "source": [
        "import re\n",
        "import json\n",
        "import nltk\n",
        "import random\n",
        "import numpy as np\n",
        "import pandas as pd\n",
        "from textblob import Word\n",
        "from sklearn.svm import SVC\n",
        "from sklearn import metrics\n",
        "from datetime import datetime\n",
        "import matplotlib.pyplot as plt\n",
        "from sklearn.neural_network import MLPClassifier\n",
        "from sklearn.preprocessing import label_binarize\n",
        "from sklearn.ensemble import RandomForestClassifier\n",
        "from sklearn.model_selection import train_test_split\n",
        "from sklearn.feature_extraction.text import TfidfVectorizer\n",
        "from sklearn.metrics import classification_report, accuracy_score, plot_confusion_matrix\n",
        "from sklearn.metrics import classification_report, confusion_matrix, roc_curve, auc"
      ],
      "execution_count": 33,
      "outputs": []
    },
    {
      "cell_type": "code",
      "source": [
        "nltk.download('omw-1.4');"
      ],
      "metadata": {
        "id": "hA8frEbGgY4e",
        "outputId": "2f98f51d-83a5-4ae6-cac0-1597ff233cef",
        "colab": {
          "base_uri": "https://localhost:8080/"
        },
        "pycharm": {
          "name": "#%%\n"
        }
      },
      "execution_count": 2,
      "outputs": [
        {
          "output_type": "stream",
          "name": "stderr",
          "text": [
            "[nltk_data] Downloading package omw-1.4 to /root/nltk_data...\n"
          ]
        }
      ]
    },
    {
      "cell_type": "code",
      "source": [
        "!python3 -m textblob.download_corpora"
      ],
      "metadata": {
        "id": "B7jahS61gChH",
        "outputId": "645eb431-a727-44c3-a979-6e50edf8aa41",
        "colab": {
          "base_uri": "https://localhost:8080/"
        },
        "pycharm": {
          "name": "#%%\n"
        }
      },
      "execution_count": 3,
      "outputs": [
        {
          "output_type": "stream",
          "name": "stdout",
          "text": [
            "[nltk_data] Downloading package brown to /root/nltk_data...\n",
            "[nltk_data]   Unzipping corpora/brown.zip.\n",
            "[nltk_data] Downloading package punkt to /root/nltk_data...\n",
            "[nltk_data]   Unzipping tokenizers/punkt.zip.\n",
            "[nltk_data] Downloading package wordnet to /root/nltk_data...\n",
            "[nltk_data] Downloading package averaged_perceptron_tagger to\n",
            "[nltk_data]     /root/nltk_data...\n",
            "[nltk_data]   Unzipping taggers/averaged_perceptron_tagger.zip.\n",
            "[nltk_data] Downloading package conll2000 to /root/nltk_data...\n",
            "[nltk_data]   Unzipping corpora/conll2000.zip.\n",
            "[nltk_data] Downloading package movie_reviews to /root/nltk_data...\n",
            "[nltk_data]   Unzipping corpora/movie_reviews.zip.\n",
            "Finished.\n"
          ]
        }
      ]
    },
    {
      "cell_type": "markdown",
      "source": [
        "## Data preparation"
      ],
      "metadata": {
        "id": "Bud9KavgdMyS",
        "pycharm": {
          "name": "#%% md\n"
        }
      }
    },
    {
      "cell_type": "code",
      "source": [
        "def count_samples_per_cat(samples, cats):\n",
        "    counts = {}\n",
        "    for name in cats:\n",
        "        counts[name] = 0\n",
        "\n",
        "    for corpus, label in samples:\n",
        "        counts[label] += 1\n",
        "\n",
        "    return counts\n",
        "\n",
        "def read_json_kaggle():\n",
        "    with open('kaggle_dataset.json') as json_file:\n",
        "        data = json.load(json_file)\n",
        "\n",
        "    return data['articles']\n",
        "\n",
        "def get_data():\n",
        "    categories = []\n",
        "    dates = []\n",
        "\n",
        "    categorias_unicas = list(set(categories))\n",
        "    dates_list = list(set(dates))\n",
        "\n",
        "    data = read_json_kaggle()\n",
        "\n",
        "    for dct in data:\n",
        "        categories.append(dct['category'])\n",
        "\n",
        "    for dct in data:\n",
        "        if dct['category'] in ['POLITICS', 'ENTERTAINMENT']:\n",
        "            dates.append(datetime.strptime(dct['date'], \"%Y-%m-%d\").strftime(\"%d-%m-%Y\"))\n",
        "\n",
        "    print(\"-------------------\")\n",
        "    print(\"- Análisis  en el conjunto de datos -\")\n",
        "    print(\"-------------------\")\n",
        "    print(f'tenemos  {len(categorias_unicas)} categorias')\n",
        "    print(categorias_unicas)\n",
        "    print(\"-------------------\")\n",
        "    print('la fecha más actualizada del data set es : ' + str(max(dates)))\n",
        "    print(\"-------------------\")\n",
        "    print(\n",
        "        \"- Tómaremos  las categorías -- > TECH, ENTERTAINMENT, BUSINESS, SPORTS, SCIENCE, POLITICS- y datos más actuales, la fecha mayores de 01-01-2017\")\n",
        "    print(\"-------------------\")\n",
        "\n",
        "\n",
        "    filtered_data = []\n",
        "    filter_date = datetime.strptime('2017-01-01', \"%Y-%m-%d\")\n",
        "    allowed_categories = {'TECH': 0, 'ENTERTAINMENT': 0, 'BUSINESS': 0, 'SPORTS': 0, 'SCIENCE': 0, 'POLITICS': 0}\n",
        "    for dct in data:\n",
        "        if dct['category'] in allowed_categories:\n",
        "            datetime_object = datetime.strptime(dct['date'], '%Y-%m-%d')\n",
        "            if dct['category'] in ['POLITICS', 'ENTERTAINMENT']:\n",
        "                if datetime_object >= filter_date:\n",
        "                    filtered_data.append(dct)\n",
        "                    allowed_categories[dct['category']] += 1\n",
        "            else:\n",
        "                filtered_data.append(dct)\n",
        "                allowed_categories[dct['category']] += 1\n",
        "\n",
        "    print(allowed_categories)\n",
        "    print(\"--\")\n",
        "\n",
        "    politics = []\n",
        "    entertainment = []\n",
        "    tech = []\n",
        "    business = []\n",
        "    sports = []\n",
        "    science = []\n",
        "    for dct in filtered_data:\n",
        "        if dct['category'] == \"POLITICS\":\n",
        "            politics.append(tuple((str(dct['headline']) + '. ' + str(dct['short_description']), \"POLITICS\")))\n",
        "        if dct['category'] == \"ENTERTAINMENT\":\n",
        "            entertainment.append(tuple((str(dct['headline']) + '. ' + str(dct['short_description']), \"ENTERTAINMENT\")))\n",
        "        if dct['category'] == \"TECH\":\n",
        "            tech.append(tuple((str(dct['headline']) + '. ' + str(dct['short_description']), \"TECH\")))\n",
        "        if dct['category'] == \"BUSINESS\":\n",
        "            business.append(tuple((str(dct['headline']) + '. ' + str(dct['short_description']), \"BUSINESS\")))\n",
        "        if dct['category'] == \"SPORTS\":\n",
        "            sports.append(tuple((str(dct['headline']) + '. ' + str(dct['short_description']), \"SPORTS\")))\n",
        "        if dct['category'] == \"SCIENCE\":\n",
        "            science.append(tuple((str(dct['headline']) + '. ' + str(dct['short_description']), \"SCIENCE\")))\n",
        "\n",
        "    max_samples = 2000\n",
        "    politics = random.sample(politics, max_samples)\n",
        "    entertainment = random.sample(entertainment, max_samples)\n",
        "    business = random.sample(business, max_samples)\n",
        "    sports = random.sample(sports, max_samples)\n",
        "    science = random.sample(science, max_samples)\n",
        "    tech = random.sample(tech, max_samples)\n",
        "    articles = politics + entertainment + business + sports + science + tech\n",
        "    print(\n",
        "        count_samples_per_cat(articles, ['TECH', 'ENTERTAINMENT', 'BUSINESS', 'SPORTS', 'SCIENCE', 'POLITICS']))\n",
        "    return articles\n",
        "\n",
        "\n",
        "\n",
        "def clean_string(string):\n",
        "\n",
        "    string = re.sub(r\"\\'s\", \"\", string)\n",
        "    string = re.sub(r\"\\'ve\", \"\", string)\n",
        "    string = re.sub(r\"n\\'t\", \"\", string)\n",
        "    string = re.sub(r\"\\'re\", \"\", string)\n",
        "    string = re.sub(r\"\\'d\", \"\", string)\n",
        "    string = re.sub(r\"\\'ll\", \"\", string)\n",
        "    string = re.sub(r\",\", \"\", string)\n",
        "    string = re.sub(r\"!\", \" ! \", string)\n",
        "    string = re.sub(r\"\\(\", \"\", string)\n",
        "    string = re.sub(r\"\\)\", \"\", string)\n",
        "    string = re.sub(r\"\\?\", \"\", string)\n",
        "    string = re.sub(r\"'\", \"\", string)\n",
        "    string = re.sub(r\"[^A-Za-z0-9(),!?\\'\\`]\", \" \", string)\n",
        "    string = re.sub(r\"[0-9]\\w+|[0-9]\", \"\", string)\n",
        "    string = re.sub(r\"\\s{2,}\", \" \", string)\n",
        "\n",
        "    return string.strip().lower()\n",
        "\n",
        "\n",
        "def prepare_dataset(dataset):\n",
        "    # divide in features and labels\n",
        "    x = dataset['news'].tolist()\n",
        "    y = dataset['type'].tolist()\n",
        "    print(\"\\n--------------------------------------------------------\")\n",
        "    print(\"------------------- DATA PREPARATION -------------------\")\n",
        "    print(\"--------------------------------------------------------\\n\")\n",
        "    print(\"Tokenization & lemmatization\", end='', flush=True)\n",
        "    for i, value in enumerate(x):\n",
        "        x[i] = ' '.join([Word(word).lemmatize() for word in clean_string(value).split()])\n",
        "        if i % 100 == 0:\n",
        "            print('.', end='', flush=True)\n",
        "    print(\"DONE!\\n\")\n",
        "    X_train, X_test, y_train, y_test = train_test_split(x, y, test_size=0.20, random_state=42)\n",
        "\n",
        "    vect = TfidfVectorizer(sublinear_tf=True, min_df=5, norm='l2', encoding='latin-1', ngram_range=(1, 2), stop_words='english')\n",
        "\n",
        "    X_train = vect.fit_transform(X_train)\n",
        "    y_train = np.array(y_train)\n",
        "    X_test = vect.transform(X_test)\n",
        "    y_test = np.array(y_test)\n",
        "    X_val, X_test, y_val, y_test = train_test_split(X_test, y_test, test_size=0.50, random_state=42)\n",
        "\n",
        "    print(\"Train set:\" + str(X_train.shape))\n",
        "    print(\"Validation set:\" + str(X_val.shape))\n",
        "    print(\"Test set:\" + str(X_test.shape))\n",
        "\n",
        "    return X_train, X_val, X_test, y_train, y_val, y_test, vect"
      ],
      "metadata": {
        "id": "g5hzRqY_c7a2",
        "pycharm": {
          "name": "#%%\n"
        }
      },
      "execution_count": 4,
      "outputs": []
    },
    {
      "cell_type": "markdown",
      "source": [
        "## Models"
      ],
      "metadata": {
        "id": "yR0oyiFyegYY",
        "pycharm": {
          "name": "#%% md\n"
        }
      }
    },
    {
      "cell_type": "code",
      "source": [
        "\n",
        "def train_RF(X_train, y_train):\n",
        "    print(\"-------------------\")\n",
        "    print(\"-- RANDOM FOREST --\")\n",
        "    print(\"-------------------\")\n",
        "    model = RandomForestClassifier(n_estimators=300, max_depth=150, n_jobs=1)\n",
        "    model.fit(X_train, y_train)\n",
        "    return model\n",
        "\n",
        "\n",
        "def train_NN(X_train, y_train):\n",
        "    print(\"-------------------\")\n",
        "    print(\"- NEURAL  NETWORK -\")\n",
        "    print(\"-------------------\")\n",
        "    model = MLPClassifier(activation='relu', alpha=1e-05, batch_size='auto',\n",
        "                          beta_1=0.9, beta_2=0.999, early_stopping=True,\n",
        "                          epsilon=1e-08, hidden_layer_sizes=(128, 64),\n",
        "                          learning_rate='constant', learning_rate_init=0.001,\n",
        "                          max_iter=400, momentum=0.9, n_iter_no_change=10,\n",
        "                          nesterovs_momentum=True, power_t=0.5, random_state=1,\n",
        "                          shuffle=True, solver='lbfgs', tol=0.0001,\n",
        "                          validation_fraction=0.1, verbose=False, warm_start=False)\n",
        "    model.fit(X_train, y_train)\n",
        "    return model\n",
        "\n",
        "\n",
        "def train_SVC(X_train, y_train):\n",
        "    print(\"-------------------\")\n",
        "    print(\"------- SVM -------\")\n",
        "    print(\"-------------------\")\n",
        "    model = SVC(kernel='linear', gamma='auto')\n",
        "    model.fit(X_train, y_train)\n",
        "    return model\n",
        "\n",
        "\n",
        "def eval_model(model, X_val, y_val):\n",
        "    y_pred = model.predict(X_val)\n",
        "    result = classification_report(y_val, y_pred)\n",
        "    accSVC = accuracy_score(y_val, y_pred)\n",
        "    print(result)\n",
        "    print(\"\\nAccuracy: \", accSVC)\n",
        "\n",
        "\n",
        "def test_model(model, X_test, y_test):\n",
        "    y_pred = model.predict(X_test)\n",
        "    acc = accuracy_score(y_test, y_pred)\n",
        "    return acc"
      ],
      "metadata": {
        "id": "dUcwPrbWesk-",
        "pycharm": {
          "name": "#%%\n"
        }
      },
      "execution_count": 5,
      "outputs": []
    },
    {
      "cell_type": "markdown",
      "source": [
        "## Configuration "
      ],
      "metadata": {
        "id": "vOdnOCEEfe0a",
        "pycharm": {
          "name": "#%% md\n"
        }
      }
    },
    {
      "cell_type": "code",
      "source": [
        "PREFERENCES = [\"TECH\", \"ENTERTAINMENT\", \"BUSINESS\", \"SPORTS\", \"SCIENCE\", \"POLITICS\"]\n",
        "\n",
        "class bcolors:\n",
        "    PURPLE = '\\033[95m'\n",
        "    BLUE = '\\033[94m'\n",
        "    GREEN = '\\033[92m'\n",
        "    YELLOW = '\\033[93m'\n",
        "    RED = '\\033[91m'\n",
        "    ENDC = '\\033[0m'\n",
        "    BOLD = '\\033[1m'\n",
        "    UNDERLINE = '\\033[4m'\n",
        "\n",
        "\n",
        "def assign_preferences(users):\n",
        "    users_with_preferences = {}\n",
        "    for user in users:\n",
        "        preferences = []\n",
        "        possibilities = list(PREFERENCES)\n",
        "        for pref in range(random.randint(1, 3)):\n",
        "            category = random.choice(possibilities)\n",
        "            preferences.append(category)\n",
        "            possibilities.remove(category)\n",
        "        users_with_preferences[user] = preferences\n",
        "    return users_with_preferences\n",
        "\n",
        "\n",
        "def predict_doc_type(doc, vect, model):\n",
        "    doc_cleaned = clean_string(doc)\n",
        "    corpus = []\n",
        "    corpus.append(doc_cleaned)\n",
        "    test_vect = vect.transform(corpus)\n",
        "    return model.predict(test_vect)[0]\n",
        "\n",
        "\n",
        "# Testing results\n",
        "def run_demo(vect, model):\n",
        "    users = [\"Silvia   \", \"Cinthia   \", \"Cesar    \", \"Alexander    \", \"Julissa     \", \"Mike    \"]\n",
        "    users_with_preferences = assign_preferences(users)\n",
        "    print(\"\\n--------------------------------------------------------\")\n",
        "    print(\"------------------------- DEMO -------------------------\")\n",
        "    print(\"--------------------------------------------------------\\n\")\n",
        "\n",
        "    print(\"--------------------------------------------------------\\n\")\n",
        "    print(\"USER PREFERENCES:\")\n",
        "    for user in users_with_preferences:\n",
        "        print(user, \" -> \", users_with_preferences[user])\n",
        "    print(\"\\n--------------------------------------------------------\")\n",
        "\n",
        "    while True:\n",
        "        try:\n",
        "            print(\"---------------------------------------------------------------------------------------------------------------\")\n",
        "            test_corpus = input(bcolors.BOLD + \"Paste here an article without newline characters (\\\\n) (Press 'q' to quit or 'r' to reassign the preferences):\\n\" + bcolors.ENDC)\n",
        "            print(\"---------------------------------------------------------------------------------------------------------------\")\n",
        "        except ValueError:\n",
        "            continue\n",
        "        if test_corpus == \"q\":\n",
        "            break\n",
        "        if test_corpus == \"r\":\n",
        "            users_with_preferences = assign_preferences(users)\n",
        "            print(\"--------------------------------------------------------\\n\")\n",
        "            print(\"USER PREFERENCES:\")\n",
        "            for user in users_with_preferences:\n",
        "                print(user, \"->  \", users_with_preferences[user])\n",
        "            print(\"\\n--------------------------------------------------------\")\n",
        "            continue\n",
        "        else:\n",
        "\n",
        "            result = predict_doc_type(test_corpus, vect, model)\n",
        "            if(result == \"business\"):\n",
        "                topic = bcolors.BOLD + bcolors.YELLOW + result.upper() + bcolors.ENDC\n",
        "            if (result == \"entertainment\"):\n",
        "                topic = bcolors.BOLD + bcolors.RED + result.upper() + bcolors.ENDC\n",
        "            if (result == \"politics\"):\n",
        "                topic = bcolors.BOLD + bcolors.PURPLE + result.upper() + bcolors.ENDC\n",
        "            if (result == \"sport\"):\n",
        "                topic = bcolors.BOLD + bcolors.BLUE + result.upper() + bcolors.ENDC\n",
        "            if (result == \"tech\"):\n",
        "                topic = bcolors.BOLD + bcolors.GREEN + result.upper() + bcolors.ENDC\n",
        "            print(\"--------------------------------------------------------\\n\")\n",
        "            print(bcolors.BOLD + \"This article talks about \"+ topic + bcolors.BOLD + \" and it's addressed to:\"+bcolors.ENDC)\n",
        "            for user in users_with_preferences:\n",
        "                if result in users_with_preferences[user]:\n",
        "                    print(user)\n",
        "            print(\"\\n--------------------------------------------------------\")\n",
        "            continue"
      ],
      "metadata": {
        "id": "cyRCck9Sfgw2",
        "pycharm": {
          "name": "#%%\n"
        }
      },
      "execution_count": 6,
      "outputs": []
    },
    {
      "cell_type": "markdown",
      "source": [
        "## Main"
      ],
      "metadata": {
        "id": "Lv0SF3mVfQT1",
        "pycharm": {
          "name": "#%% md\n"
        }
      }
    },
    {
      "cell_type": "code",
      "source": [
        "# DATA PREPARATION\n",
        "data_kaggle = pd.DataFrame(get_data(), columns=['news', 'type'])\n",
        "#dataset = pd.read_csv('dataset.csv', encoding=\"ISO-8859-1\")\n",
        "dataset = pd.DataFrame(get_data(), columns=['news', 'type'])\n",
        "X_train, X_val, X_test, y_train, y_val, y_test, vect = prepare_dataset(dataset)\n",
        "\n",
        "# MODELS TRAINING\n",
        "print(\"\\n--------------------------------------------------------\")\n",
        "print(\"------------------- MODELS  TRAINING -------------------\")\n",
        "print(\"--------------------------------------------------------\\n\")\n",
        "\n",
        "# Random Forest\n",
        "modelRF = train_RF(X_train, y_train)\n",
        "eval_model(modelRF, X_val, y_val)\n",
        "\n",
        "# SVM\n",
        "modelSVM = train_SVC(X_train, y_train)\n",
        "eval_model(modelSVM, X_val, y_val)\n",
        "\n",
        "# NN\n",
        "modelNN = train_NN(X_train, y_train)\n",
        "eval_model(modelNN, X_val, y_val)\n",
        "\n",
        "\n",
        "# MODELS TESTING\n",
        "print(\"\\n--------------------------------------------------------\")\n",
        "print(\"-------------- MODELS  TESTING (accuracy) --------------\")\n",
        "print(\"--------------------------------------------------------\\n\")\n",
        "print(\"RANDOM FOREST:     \", test_model(modelRF, X_test, y_test))\n",
        "print(\"SVC:               \", test_model(modelSVM, X_test, y_test))\n",
        "print(\"NEURAL NETWORK:    \", test_model(modelNN, X_test, y_test))\n"
      ],
      "metadata": {
        "id": "HH4ynfZpfRPj",
        "outputId": "dd825a10-cf14-4173-87fe-b067b893fa03",
        "colab": {
          "base_uri": "https://localhost:8080/"
        },
        "pycharm": {
          "name": "#%%\n"
        }
      },
      "execution_count": 10,
      "outputs": [
        {
          "output_type": "stream",
          "name": "stdout",
          "text": [
            "-------------------\n",
            "- Análisis  en el conjunto de datos -\n",
            "-------------------\n",
            "tenemos  0 categorias\n",
            "[]\n",
            "-------------------\n",
            "la fecha más actualizada del data set es : 31-12-2017\n",
            "-------------------\n",
            "- Tómaremos  las categorías -- > TECH, ENTERTAINMENT, BUSINESS, SPORTS, SCIENCE, POLITICS- y datos más actuales, la fecha mayores de 01-01-2017\n",
            "-------------------\n",
            "{'TECH': 2082, 'ENTERTAINMENT': 4910, 'BUSINESS': 5937, 'SPORTS': 4884, 'SCIENCE': 2178, 'POLITICS': 13680}\n",
            "--\n",
            "{'TECH': 2000, 'ENTERTAINMENT': 2000, 'BUSINESS': 2000, 'SPORTS': 2000, 'SCIENCE': 2000, 'POLITICS': 2000}\n",
            "-------------------\n",
            "- Análisis  en el conjunto de datos -\n",
            "-------------------\n",
            "tenemos  0 categorias\n",
            "[]\n",
            "-------------------\n",
            "la fecha más actualizada del data set es : 31-12-2017\n",
            "-------------------\n",
            "- Tómaremos  las categorías -- > TECH, ENTERTAINMENT, BUSINESS, SPORTS, SCIENCE, POLITICS- y datos más actuales, la fecha mayores de 01-01-2017\n",
            "-------------------\n",
            "{'TECH': 2082, 'ENTERTAINMENT': 4910, 'BUSINESS': 5937, 'SPORTS': 4884, 'SCIENCE': 2178, 'POLITICS': 13680}\n",
            "--\n",
            "{'TECH': 2000, 'ENTERTAINMENT': 2000, 'BUSINESS': 2000, 'SPORTS': 2000, 'SCIENCE': 2000, 'POLITICS': 2000}\n",
            "\n",
            "--------------------------------------------------------\n",
            "------------------- DATA PREPARATION -------------------\n",
            "--------------------------------------------------------\n",
            "\n",
            "Tokenization & lemmatization........................................................................................................................DONE!\n",
            "\n",
            "Train set:(9600, 5839)\n",
            "Validation set:(1200, 5839)\n",
            "Test set:(1200, 5839)\n",
            "\n",
            "--------------------------------------------------------\n",
            "------------------- MODELS  TRAINING -------------------\n",
            "--------------------------------------------------------\n",
            "\n",
            "-------------------\n",
            "-- RANDOM FOREST --\n",
            "-------------------\n",
            "               precision    recall  f1-score   support\n",
            "\n",
            "     BUSINESS       0.58      0.74      0.65       206\n",
            "ENTERTAINMENT       0.72      0.68      0.70       210\n",
            "     POLITICS       0.79      0.78      0.78       198\n",
            "      SCIENCE       0.76      0.74      0.75       194\n",
            "       SPORTS       0.76      0.81      0.78       177\n",
            "         TECH       0.84      0.64      0.72       215\n",
            "\n",
            "     accuracy                           0.73      1200\n",
            "    macro avg       0.74      0.73      0.73      1200\n",
            " weighted avg       0.74      0.73      0.73      1200\n",
            "\n",
            "\n",
            "Accuracy:  0.7283333333333334\n",
            "-------------------\n",
            "------- SVM -------\n",
            "-------------------\n",
            "               precision    recall  f1-score   support\n",
            "\n",
            "     BUSINESS       0.75      0.77      0.76       206\n",
            "ENTERTAINMENT       0.82      0.82      0.82       210\n",
            "     POLITICS       0.82      0.85      0.84       198\n",
            "      SCIENCE       0.85      0.84      0.85       194\n",
            "       SPORTS       0.84      0.87      0.85       177\n",
            "         TECH       0.85      0.77      0.81       215\n",
            "\n",
            "     accuracy                           0.82      1200\n",
            "    macro avg       0.82      0.82      0.82      1200\n",
            " weighted avg       0.82      0.82      0.82      1200\n",
            "\n",
            "\n",
            "Accuracy:  0.8191666666666667\n",
            "-------------------\n",
            "- NEURAL  NETWORK -\n",
            "-------------------\n"
          ]
        },
        {
          "output_type": "stream",
          "name": "stderr",
          "text": [
            "/usr/local/lib/python3.8/dist-packages/sklearn/neural_network/_multilayer_perceptron.py:549: ConvergenceWarning: lbfgs failed to converge (status=1):\n",
            "STOP: TOTAL NO. of ITERATIONS REACHED LIMIT.\n",
            "\n",
            "Increase the number of iterations (max_iter) or scale the data as shown in:\n",
            "    https://scikit-learn.org/stable/modules/preprocessing.html\n",
            "  self.n_iter_ = _check_optimize_result(\"lbfgs\", opt_res, self.max_iter)\n"
          ]
        },
        {
          "output_type": "stream",
          "name": "stdout",
          "text": [
            "               precision    recall  f1-score   support\n",
            "\n",
            "     BUSINESS       0.72      0.70      0.71       206\n",
            "ENTERTAINMENT       0.78      0.82      0.80       210\n",
            "     POLITICS       0.82      0.82      0.82       198\n",
            "      SCIENCE       0.79      0.81      0.80       194\n",
            "       SPORTS       0.83      0.86      0.84       177\n",
            "         TECH       0.81      0.73      0.77       215\n",
            "\n",
            "     accuracy                           0.79      1200\n",
            "    macro avg       0.79      0.79      0.79      1200\n",
            " weighted avg       0.79      0.79      0.79      1200\n",
            "\n",
            "\n",
            "Accuracy:  0.79\n",
            "\n",
            "--------------------------------------------------------\n",
            "-------------- MODELS  TESTING (accuracy) --------------\n",
            "--------------------------------------------------------\n",
            "\n",
            "RANDOM FOREST:      0.7383333333333333\n",
            "SVC:                0.7933333333333333\n",
            "NEURAL NETWORK:     0.7441666666666666\n"
          ]
        }
      ]
    },
    {
      "cell_type": "markdown",
      "source": [
        "### Random forest"
      ],
      "metadata": {
        "id": "zE_hukbel5tS"
      }
    },
    {
      "cell_type": "code",
      "source": [
        "y_predict=modelRF.predict(X_test)"
      ],
      "metadata": {
        "id": "Ne4imuUPq8Qm"
      },
      "execution_count": 22,
      "outputs": []
    },
    {
      "cell_type": "code",
      "source": [
        "n_classes = np.unique(y_test)"
      ],
      "metadata": {
        "id": "9G7tF8DHptQ8"
      },
      "execution_count": 37,
      "outputs": []
    },
    {
      "cell_type": "code",
      "execution_count": 32,
      "metadata": {
        "id": "mOjZ73KLfNWb"
      },
      "outputs": [],
      "source": [
        "confusion_matrix_1 = confusion_matrix(np.argmax(label_binarize(y_predict, classes=np.unique(y_predict)),1), np.argmax(label_binarize(y_test, classes=np.unique(y_test)),1))"
      ]
    },
    {
      "cell_type": "code",
      "execution_count": 48,
      "metadata": {
        "id": "GV8Tnx_ifNWb",
        "outputId": "23126cf5-8b2c-4395-fd4c-21d48cb74fef",
        "colab": {
          "base_uri": "https://localhost:8080/",
          "height": 578
        }
      },
      "outputs": [
        {
          "output_type": "display_data",
          "data": {
            "text/plain": [
              "<Figure size 720x720 with 2 Axes>"
            ],
            "image/png": "[encoded data removed]"
          },
          "metadata": {
            "needs_background": "light"
          }
        }
      ],
      "source": [
        "cm_display = metrics.ConfusionMatrixDisplay(confusion_matrix = confusion_matrix_1, display_labels = n_classes)\n",
        "\n",
        "fig, ax = plt.subplots(figsize=(10,10))\n",
        "cm_display.plot(ax=ax);"
      ]
    },
    {
      "cell_type": "markdown",
      "source": [
        "### SVM"
      ],
      "metadata": {
        "id": "YzxCzxMtl6GW"
      }
    },
    {
      "cell_type": "code",
      "source": [
        "y_predict2=modelSVM.predict(X_test)"
      ],
      "metadata": {
        "id": "xHZ2v0VHtxCc"
      },
      "execution_count": 49,
      "outputs": []
    },
    {
      "cell_type": "code",
      "source": [
        "confusion_matrix_1 = confusion_matrix(np.argmax(label_binarize(y_predict2, classes=np.unique(y_predict2)),1), np.argmax(label_binarize(y_test, classes=np.unique(y_test)),1))"
      ],
      "metadata": {
        "id": "knjG8aUQttSl"
      },
      "execution_count": 50,
      "outputs": []
    },
    {
      "cell_type": "code",
      "source": [
        "cm_display = metrics.ConfusionMatrixDisplay(confusion_matrix = confusion_matrix_1, display_labels = n_classes)\n",
        "\n",
        "fig, ax = plt.subplots(figsize=(10,10))\n",
        "cm_display.plot(ax=ax);"
      ],
      "metadata": {
        "colab": {
          "base_uri": "https://localhost:8080/",
          "height": 574
        },
        "id": "sBCREAOll5Y9",
        "outputId": "17c529b3-b0a2-41ec-8964-9fd763584cde"
      },
      "execution_count": 51,
      "outputs": [
        {
          "output_type": "display_data",
          "data": {
            "text/plain": [
              "<Figure size 720x720 with 2 Axes>"
            ],
            "image/png": "[encoded data removed]"
          },
          "metadata": {
            "needs_background": "light"
          }
        }
      ]
    },
    {
      "cell_type": "markdown",
      "source": [
        "### ANN"
      ],
      "metadata": {
        "id": "AkR5oa8Tl7Fj"
      }
    },
    {
      "cell_type": "code",
      "source": [
        "y_predict3=modelNN.predict(X_test)"
      ],
      "metadata": {
        "id": "WQwJlfF4t8-o"
      },
      "execution_count": 52,
      "outputs": []
    },
    {
      "cell_type": "code",
      "source": [
        "confusion_matrix_1 = confusion_matrix(np.argmax(label_binarize(y_predict3, classes=np.unique(y_predict3)),1), np.argmax(label_binarize(y_test, classes=np.unique(y_test)),1))"
      ],
      "metadata": {
        "id": "NpeXTVxJt8-o"
      },
      "execution_count": 53,
      "outputs": []
    },
    {
      "cell_type": "code",
      "source": [
        "cm_display = metrics.ConfusionMatrixDisplay(confusion_matrix = confusion_matrix_1, display_labels = n_classes)\n",
        "\n",
        "fig, ax = plt.subplots(figsize=(10,10))\n",
        "cm_display.plot(ax=ax);"
      ],
      "metadata": {
        "outputId": "795b4121-bf5c-47fb-a9d9-9507baf47f07",
        "colab": {
          "base_uri": "https://localhost:8080/",
          "height": 574
        },
        "id": "VB1vQDGot8-p"
      },
      "execution_count": 54,
      "outputs": [
        {
          "output_type": "display_data",
          "data": {
            "text/plain": [
              "<Figure size 720x720 with 2 Axes>"
            ],
            "image/png": "[encoded data removed]"
          },
          "metadata": {
            "needs_background": "light"
          }
        }
      ]
    },
    {
      "cell_type": "markdown",
      "source": [
        "## Demo"
      ],
      "metadata": {
        "id": "6W_YMyXBl6mc"
      }
    },
    {
      "cell_type": "code",
      "source": [
        "# RUN THE DEMO\n",
        "run_demo(vect, modelNN)"
      ],
      "metadata": {
        "id": "0-9ijizffrG_",
        "outputId": "efe0c1d8-6ba4-44da-cc7c-20e77d2128cb",
        "colab": {
          "base_uri": "https://localhost:8080/"
        },
        "pycharm": {
          "name": "#%%\n"
        }
      },
      "execution_count": null,
      "outputs": [
        {
          "name": "stdout",
          "output_type": "stream",
          "text": [
            "\n",
            "--------------------------------------------------------\n",
            "------------------------- DEMO -------------------------\n",
            "--------------------------------------------------------\n",
            "\n",
            "--------------------------------------------------------\n",
            "\n",
            "USER PREFERENCES:\n",
            "Maria     ->  ['sport']\n",
            "Nacho     ->  ['business']\n",
            "Luca      ->  ['entertainment', 'sport', 'business']\n",
            "Adam      ->  ['tech', 'politics', 'business']\n",
            "Tom       ->  ['sport', 'entertainment', 'politics']\n",
            "Mike      ->  ['business']\n",
            "\n",
            "--------------------------------------------------------\n",
            "---------------------------------------------------------------------------------------------------------------\n"
          ]
        },
        {
          "name": "stderr",
          "output_type": "stream",
          "text": [
            "\n",
            "KeyboardInterrupt\n",
            "\n"
          ]
        }
      ]
    },
    {
      "cell_type": "code",
      "source": [],
      "metadata": {
        "id": "oFzd8uDThsk_",
        "pycharm": {
          "name": "#%%\n"
        }
      },
      "execution_count": null,
      "outputs": []
    }
  ]
}